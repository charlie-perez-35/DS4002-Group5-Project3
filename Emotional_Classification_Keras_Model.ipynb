{
  "cells": [
    {
      "cell_type": "markdown",
      "metadata": {
        "id": "view-in-github",
        "colab_type": "text"
      },
      "source": [
        "<a href=\"https://colab.research.google.com/github/charlie-perez-35/DS4002-Group5-Project3/blob/main/Emotional_Classification_Keras_Model.ipynb\" target=\"_parent\"><img src=\"https://colab.research.google.com/assets/colab-badge.svg\" alt=\"Open In Colab\"/></a>"
      ]
    },
    {
      "cell_type": "code",
      "execution_count": null,
      "metadata": {
        "id": "lloqy13PmSxD"
      },
      "outputs": [],
      "source": [
        "import numpy as np\n",
        "import seaborn as sns\n",
        "import matplotlib.pyplot as plt\n",
        "import os\n",
        "%matplotlib inline\n",
        "\n",
        "!pip install livelossplot\n",
        "!pip install tensorflow\n",
        "!pip install keras\n",
        "\n",
        "import PIL\n",
        "import PIL.Image\n",
        "import tensorflow as tf\n",
        "\n",
        "import cv2\n",
        "from random import choice\n",
        "from glob import glob\n",
        "from pathlib import Path\n",
        "\n",
        "from tensorflow.keras import layers\n",
        "from tensorflow.keras.preprocessing.image import ImageDataGenerator\n",
        "from tensorflow.keras.layers import Dense, Input, Dropout,Flatten, Conv2D\n",
        "from tensorflow.keras.layers import BatchNormalization, Activation, MaxPooling2D\n",
        "from tensorflow.keras.models import Model, Sequential\n",
        "from tensorflow.keras.optimizers import Adam\n",
        "from tensorflow.keras.callbacks import ModelCheckpoint, ReduceLROnPlateau\n",
        "from tensorflow.keras.utils import plot_model\n",
        "\n",
        "from livelossplot import PlotLossesKerasTF"
      ]
    },
    {
      "cell_type": "code",
      "execution_count": 3,
      "metadata": {
        "colab": {
          "base_uri": "https://localhost:8080/"
        },
        "id": "KxbPnHi8mcpw",
        "outputId": "c54db31f-6eaf-48d1-f0b2-3eaeab6c1dae"
      },
      "outputs": [
        {
          "output_type": "stream",
          "name": "stdout",
          "text": [
            "Cloning into 'CS229'...\n",
            "remote: Enumerating objects: 25127, done.\u001b[K\n",
            "remote: Total 25127 (delta 0), reused 0 (delta 0), pack-reused 25127\u001b[K\n",
            "Receiving objects: 100% (25127/25127), 1.62 GiB | 38.56 MiB/s, done.\n",
            "Resolving deltas: 100% (577/577), done.\n",
            "Updating files: 100% (2077/2077), done.\n"
          ]
        }
      ],
      "source": [
        "! git clone https://github.com/spenceryee/CS229"
      ]
    },
    {
      "cell_type": "code",
      "execution_count": 4,
      "metadata": {
        "id": "FWGc6JBemk_3"
      },
      "outputs": [],
      "source": [
        "folder_paths = ['/content/CS229/CK+/anger', '/content/CS229/CK+/contempt', '/content/CS229/CK+/disgust',\n",
        "                '/content/CS229/CK+/fear', '/content/CS229/CK+/happiness', '/content/CS229/CK+/sadness',\n",
        "                '/content/CS229/CK+/surprise']\n",
        "# ChatGPT\n",
        "file_list = []\n",
        "for folder_path in folder_paths:\n",
        "    files = os.listdir(folder_path)\n",
        "    files = [os.path.join(folder_path, f) for f in files]\n",
        "    file_list.extend(files)"
      ]
    },
    {
      "cell_type": "code",
      "execution_count": 5,
      "metadata": {
        "id": "UGKueaOwnWcb"
      },
      "outputs": [],
      "source": [
        "combined_dir = '/content/combined_CK_data'\n",
        "os.makedirs(combined_dir, exist_ok=True)"
      ]
    },
    {
      "cell_type": "code",
      "execution_count": 6,
      "metadata": {
        "id": "a1zcAvYOmvLv"
      },
      "outputs": [],
      "source": [
        "# Iterate through the folders in the data directory\n",
        "for folder_name in os.listdir(combined_dir):\n",
        "    folder_path = os.path.join(combined_dir, folder_name)\n",
        "    if os.path.isdir(folder_path):\n",
        "        # Count the number of files in the folder\n",
        "        num_files = len(os.listdir(folder_path))\n",
        "        print(f'there are {num_files} images displaying \"{folder_name}\",')"
      ]
    },
    {
      "cell_type": "code",
      "execution_count": 7,
      "metadata": {
        "id": "aC3TCeFkm1Dr"
      },
      "outputs": [],
      "source": [
        "import shutil\n",
        "\n",
        "for file_path in file_list:\n",
        "    folder_name = os.path.basename(os.path.dirname(file_path))\n",
        "    file_name = os.path.basename(file_path)\n",
        "    new_folder_path = os.path.join(combined_dir, folder_name)  # New folder path in combined directory\n",
        "    os.makedirs(new_folder_path, exist_ok=True)  # Create the folder if it doesn't exist\n",
        "    new_file_path = os.path.join(new_folder_path, file_name)  # New file path with folder structure\n",
        "    shutil.copy(file_path, new_file_path)"
      ]
    },
    {
      "cell_type": "code",
      "execution_count": 8,
      "metadata": {
        "id": "ZQhzO0ov644z"
      },
      "outputs": [],
      "source": [
        "from tensorflow.keras.preprocessing.image import ImageDataGenerator, load_img, img_to_array, array_to_img\n",
        "\n",
        "# Define parameters for image loading\n",
        "batch_size = 128\n",
        "image_size = (256, 256)  # Set the desired size for your images\n",
        "\n",
        "# Create an instance of ImageDataGenerator for loading images\n",
        "data_generator = ImageDataGenerator(rescale=1./255)  # Normalize pixel values to [0,1]\n",
        "\n",
        "# Load images from the directory\n",
        "data_dir = '/content/combined_CK_data'"
      ]
    },
    {
      "cell_type": "code",
      "execution_count": null,
      "metadata": {
        "id": "wuOXwd5s98ak"
      },
      "outputs": [],
      "source": [
        "# import os\n",
        "# import cv2\n",
        "# import numpy as np\n",
        "\n",
        "# def save_image_as_png(numpy_array, output_dir, filename):\n",
        "#     \"\"\"\n",
        "#     Save a NumPy array representing an image to a directory as a PNG file.\n",
        "\n",
        "#     Parameters:\n",
        "#         numpy_array (numpy.ndarray): The NumPy array representing the image to be saved.\n",
        "#         output_dir (str): Path to the directory where the image will be saved.\n",
        "#         filename (str): Name of the file to save the image to.\n",
        "\n",
        "#     Returns:\n",
        "#         None\n",
        "#     \"\"\"\n",
        "#     # Create the output directory if it doesn't exist\n",
        "#     os.makedirs(output_dir, exist_ok=True)\n",
        "\n",
        "#     # Construct the file path\n",
        "#     filepath = os.path.join(output_dir, filename)\n",
        "\n",
        "#     # Save the image using OpenCV with PNG format\n",
        "#     cv2.imwrite(filepath, numpy_array, [cv2.IMWRITE_PNG_COMPRESSION, 0])  # Use PNG compression level 0 for lossless\n",
        "\n",
        "#     writeStatus = cv2.imwrite(filepath, numpy_array, [cv2.IMWRITE_PNG_COMPRESSION, 0])\n",
        "#     if writeStatus is True:\n",
        "#         print(\"image written\")\n",
        "#     else:\n",
        "#         print(\"problem\") # or raise exception, handle problem, etc.\n",
        "\n",
        "# # Example usage\n",
        "# # Assuming you have a NumPy array called \"image_array\" representing an image\n",
        "# # and you want to save it to the directory \"output\" with the filename \"my_image.png\"\n",
        "# # image_array = np.random.randint(0, 255, size=(100, 100, 3), dtype=np.uint8)  # Example random image\n",
        "# # output_dir = \"output\"\n",
        "# # filename = \"my_image.png\"\n",
        "# # save_image_as_png(image_array, output_dir, filename)"
      ]
    },
    {
      "cell_type": "code",
      "source": [
        "# !pip install -Uqq ipdb\n",
        "# import ipdb"
      ],
      "metadata": {
        "id": "xA2P97o7I3lp"
      },
      "execution_count": 9,
      "outputs": []
    },
    {
      "cell_type": "code",
      "source": [
        "# %pdb off"
      ],
      "metadata": {
        "id": "lKOaWmsTJLVz"
      },
      "execution_count": null,
      "outputs": []
    },
    {
      "cell_type": "code",
      "source": [
        "# Define augmentation parameters\n",
        "data_generator = ImageDataGenerator(\n",
        "        rotation_range=20,\n",
        "        width_shift_range=0.1,\n",
        "        height_shift_range=0.1,\n",
        "        shear_range=0.2,\n",
        "        zoom_range=0.2,\n",
        "        horizontal_flip=True,\n",
        "        vertical_flip=True,\n",
        "        fill_mode='nearest'\n",
        "    )"
      ],
      "metadata": {
        "id": "jV33bmPdLyzy"
      },
      "execution_count": 11,
      "outputs": []
    },
    {
      "cell_type": "code",
      "execution_count": 12,
      "metadata": {
        "id": "q-92oCXg66KA"
      },
      "outputs": [],
      "source": [
        "#augmentation for anger\n",
        "counter=0\n",
        "path_list = os.listdir(\"/content/combined_CK_data/anger/\")\n",
        "for x in path_list:\n",
        "    target = fr\"/content/combined_CK_data/anger/{x}\"\n",
        "    image = load_img(target, color_mode='grayscale')\n",
        "\n",
        "    image_array = img_to_array(image)\n",
        "    image_array = np.expand_dims(image_array, axis=0)  # Convert to batch with a single image\n",
        "    image_array = image_array.astype('uint8')  # Ensure the datatype is uint8\n",
        "\n",
        "    # Generate augmented versions of the image\n",
        "    augmented_images = []\n",
        "    num_augmented_images = 6  # Number of augmented images to generate\n",
        "    images = np.array(augmented_images)\n",
        "\n",
        "    #ipdb.set_trace()\n",
        "    #Generate augmented images and save them to the directory\n",
        "    for _ in range(num_augmented_images):\n",
        "        augmented_image_array = data_generator.random_transform(image_array[0])\n",
        "        path = '/content/combined_CK_data/anger/'\n",
        "        cv2.imwrite(os.path.join(path , f\"{counter}image_{_}.png\"), augmented_image_array)\n",
        "        counter += 1\n",
        "        augmented_image = array_to_img(augmented_image_array, data_format='channels_last')\n",
        "        augmented_images.append(augmented_image)\n",
        "\n",
        "    _ = 0\n"
      ]
    },
    {
      "cell_type": "code",
      "source": [
        "#augmentation for contempt\n",
        "counter=0\n",
        "path_list = os.listdir(\"/content/combined_CK_data/contempt/\")\n",
        "for x in path_list:\n",
        "    target = fr\"/content/combined_CK_data/contempt/{x}\"\n",
        "    image = load_img(target, color_mode='grayscale')\n",
        "\n",
        "    image_array = img_to_array(image)\n",
        "    image_array = np.expand_dims(image_array, axis=0)  # Convert to batch with a single image\n",
        "    image_array = image_array.astype('uint8')  # Ensure the datatype is uint8\n",
        "\n",
        "    # Generate augmented versions of the image\n",
        "    augmented_images = []\n",
        "    num_augmented_images = 6  # Number of augmented images to generate\n",
        "    images = np.array(augmented_images)\n",
        "\n",
        "    #ipdb.set_trace()\n",
        "    #Generate augmented images and save them to the directory\n",
        "    for _ in range(num_augmented_images):\n",
        "        augmented_image_array = data_generator.random_transform(image_array[0])\n",
        "        path = '/content/combined_CK_data/contempt/'\n",
        "        cv2.imwrite(os.path.join(path , f\"{counter}image_{_}.png\"), augmented_image_array)\n",
        "        counter += 1\n",
        "        augmented_image = array_to_img(augmented_image_array, data_format='channels_last')\n",
        "        augmented_images.append(augmented_image)\n",
        "\n",
        "    _ = 0"
      ],
      "metadata": {
        "id": "5v1vqrr0MOI3"
      },
      "execution_count": 13,
      "outputs": []
    },
    {
      "cell_type": "code",
      "source": [
        "#augmentation for disgust\n",
        "counter=0\n",
        "path_list = os.listdir(\"/content/combined_CK_data/disgust/\")\n",
        "for x in path_list:\n",
        "    target = fr\"/content/combined_CK_data/disgust/{x}\"\n",
        "    image = load_img(target, color_mode='grayscale')\n",
        "\n",
        "    image_array = img_to_array(image)\n",
        "    image_array = np.expand_dims(image_array, axis=0)  # Convert to batch with a single image\n",
        "    image_array = image_array.astype('uint8')  # Ensure the datatype is uint8\n",
        "\n",
        "    # Generate augmented versions of the image\n",
        "    augmented_images = []\n",
        "    num_augmented_images = 6  # Number of augmented images to generate\n",
        "    images = np.array(augmented_images)\n",
        "\n",
        "    #ipdb.set_trace()\n",
        "    #Generate augmented images and save them to the directory\n",
        "    for _ in range(num_augmented_images):\n",
        "        augmented_image_array = data_generator.random_transform(image_array[0])\n",
        "        path = '/content/combined_CK_data/disgust/'\n",
        "        cv2.imwrite(os.path.join(path , f\"{counter}image_{_}.png\"), augmented_image_array)\n",
        "        counter += 1\n",
        "        augmented_image = array_to_img(augmented_image_array, data_format='channels_last')\n",
        "        augmented_images.append(augmented_image)\n",
        "\n",
        "    _ = 0"
      ],
      "metadata": {
        "id": "du0Kh54kMnxV"
      },
      "execution_count": 14,
      "outputs": []
    },
    {
      "cell_type": "code",
      "source": [
        "#augmentation for fear\n",
        "counter=0\n",
        "path_list = os.listdir(\"/content/combined_CK_data/fear/\")\n",
        "for x in path_list:\n",
        "    target = fr\"/content/combined_CK_data/fear/{x}\"\n",
        "    image = load_img(target, color_mode='grayscale')\n",
        "\n",
        "    image_array = img_to_array(image)\n",
        "    image_array = np.expand_dims(image_array, axis=0)  # Convert to batch with a single image\n",
        "    image_array = image_array.astype('uint8')  # Ensure the datatype is uint8\n",
        "\n",
        "    # Generate augmented versions of the image\n",
        "    augmented_images = []\n",
        "    num_augmented_images = 6  # Number of augmented images to generate\n",
        "    images = np.array(augmented_images)\n",
        "\n",
        "    #ipdb.set_trace()\n",
        "    #Generate augmented images and save them to the directory\n",
        "    for _ in range(num_augmented_images):\n",
        "        augmented_image_array = data_generator.random_transform(image_array[0])\n",
        "        path = '/content/combined_CK_data/fear/'\n",
        "        cv2.imwrite(os.path.join(path , f\"{counter}image_{_}.png\"), augmented_image_array)\n",
        "        counter += 1\n",
        "        augmented_image = array_to_img(augmented_image_array, data_format='channels_last')\n",
        "        augmented_images.append(augmented_image)\n",
        "\n",
        "    _ = 0"
      ],
      "metadata": {
        "id": "sIHwjMcnM0l3"
      },
      "execution_count": 15,
      "outputs": []
    },
    {
      "cell_type": "code",
      "source": [
        "#augmentation for happiness\n",
        "counter=0\n",
        "path_list = os.listdir(\"/content/combined_CK_data/happiness/\")\n",
        "for x in path_list:\n",
        "    target = fr\"/content/combined_CK_data/happiness/{x}\"\n",
        "    image = load_img(target, color_mode='grayscale')\n",
        "\n",
        "    image_array = img_to_array(image)\n",
        "    image_array = np.expand_dims(image_array, axis=0)  # Convert to batch with a single image\n",
        "    image_array = image_array.astype('uint8')  # Ensure the datatype is uint8\n",
        "\n",
        "    # Generate augmented versions of the image\n",
        "    augmented_images = []\n",
        "    num_augmented_images = 6  # Number of augmented images to generate\n",
        "    images = np.array(augmented_images)\n",
        "\n",
        "    #ipdb.set_trace()\n",
        "    #Generate augmented images and save them to the directory\n",
        "    for _ in range(num_augmented_images):\n",
        "        augmented_image_array = data_generator.random_transform(image_array[0])\n",
        "        path = '/content/combined_CK_data/happiness/'\n",
        "        cv2.imwrite(os.path.join(path , f\"{counter}image_{_}.png\"), augmented_image_array)\n",
        "        counter += 1\n",
        "        augmented_image = array_to_img(augmented_image_array, data_format='channels_last')\n",
        "        augmented_images.append(augmented_image)\n",
        "\n",
        "    _ = 0"
      ],
      "metadata": {
        "id": "BSTpDpHkM3Ru"
      },
      "execution_count": 16,
      "outputs": []
    },
    {
      "cell_type": "code",
      "source": [
        "#augmentation for sadness\n",
        "counter=0\n",
        "path_list = os.listdir(\"/content/combined_CK_data/sadness/\")\n",
        "for x in path_list:\n",
        "    target = fr\"/content/combined_CK_data/sadness/{x}\"\n",
        "    image = load_img(target, color_mode='grayscale')\n",
        "\n",
        "    image_array = img_to_array(image)\n",
        "    image_array = np.expand_dims(image_array, axis=0)  # Convert to batch with a single image\n",
        "    image_array = image_array.astype('uint8')  # Ensure the datatype is uint8\n",
        "\n",
        "    # Generate augmented versions of the image\n",
        "    augmented_images = []\n",
        "    num_augmented_images = 6  # Number of augmented images to generate\n",
        "    images = np.array(augmented_images)\n",
        "\n",
        "    #ipdb.set_trace()\n",
        "    #Generate augmented images and save them to the directory\n",
        "    for _ in range(num_augmented_images):\n",
        "        augmented_image_array = data_generator.random_transform(image_array[0])\n",
        "        path = '/content/combined_CK_data/sadness/'\n",
        "        cv2.imwrite(os.path.join(path , f\"{counter}image_{_}.png\"), augmented_image_array)\n",
        "        counter += 1\n",
        "        augmented_image = array_to_img(augmented_image_array, data_format='channels_last')\n",
        "        augmented_images.append(augmented_image)\n",
        "\n",
        "    _ = 0"
      ],
      "metadata": {
        "id": "qG2F9adxM73I"
      },
      "execution_count": 17,
      "outputs": []
    },
    {
      "cell_type": "code",
      "source": [
        "#augmentation for surprise\n",
        "counter=0\n",
        "path_list = os.listdir(\"/content/combined_CK_data/surprise/\")\n",
        "for x in path_list:\n",
        "    target = fr\"/content/combined_CK_data/surprise/{x}\"\n",
        "    image = load_img(target, color_mode='grayscale')\n",
        "\n",
        "    image_array = img_to_array(image)\n",
        "    image_array = np.expand_dims(image_array, axis=0)  # Convert to batch with a single image\n",
        "    image_array = image_array.astype('uint8')  # Ensure the datatype is uint8\n",
        "\n",
        "    # Generate augmented versions of the image\n",
        "    augmented_images = []\n",
        "    num_augmented_images = 6  # Number of augmented images to generate\n",
        "    images = np.array(augmented_images)\n",
        "\n",
        "    #ipdb.set_trace()\n",
        "    #Generate augmented images and save them to the directory\n",
        "    for _ in range(num_augmented_images):\n",
        "        augmented_image_array = data_generator.random_transform(image_array[0])\n",
        "        path = '/content/combined_CK_data/surprise/'\n",
        "        cv2.imwrite(os.path.join(path , f\"{counter}image_{_}.png\"), augmented_image_array)\n",
        "        counter += 1\n",
        "        augmented_image = array_to_img(augmented_image_array, data_format='channels_last')\n",
        "        augmented_images.append(augmented_image)\n",
        "\n",
        "    _ = 0"
      ],
      "metadata": {
        "id": "eQPY0MwpM-hp"
      },
      "execution_count": 19,
      "outputs": []
    },
    {
      "cell_type": "code",
      "source": [
        "import shutil\n",
        "def split_folder(source_folder, folder1, folder2, split_ratio=0.5):\n",
        "\n",
        "    # Create destination folders if they don't exist\n",
        "    os.makedirs(folder1, exist_ok=True)\n",
        "    os.makedirs(folder2, exist_ok=True)\n",
        "\n",
        "    # Get list of files in source folder\n",
        "    files = os.listdir(source_folder)\n",
        "    num_files = len(files)\n",
        "\n",
        "    # Calculate the number of files to move to folder1\n",
        "    num_files_to_move = int(num_files * split_ratio)\n",
        "\n",
        "    # Move files to folder1\n",
        "    for file in files[:num_files_to_move]:\n",
        "        src = os.path.join(source_folder, file)\n",
        "        dst = os.path.join(folder1, file)\n",
        "        shutil.move(src, dst)\n",
        "\n",
        "    # Move remaining files to folder2\n",
        "    for file in files[num_files_to_move:]:\n",
        "        src = os.path.join(source_folder, file)\n",
        "        dst = os.path.join(folder2, file)\n",
        "        shutil.move(src, dst)\n",
        "\n",
        "\n",
        "split_folder(\"/content/combined_CK_data/anger/\", \"anger_train\", \"anger_test\", split_ratio=0.8)\n",
        "split_folder(\"/content/combined_CK_data/contempt/\", \"contempt_train\", \"contempt_test\", split_ratio=0.8)\n",
        "split_folder(\"/content/combined_CK_data/disgust/\", \"disgust_train\", \"disgust_test\", split_ratio=0.8)\n",
        "split_folder(\"/content/combined_CK_data/fear/\", \"fear_train\", \"fear_test\", split_ratio=0.8)\n",
        "split_folder(\"/content/combined_CK_data/happiness/\", \"happiness_train\", \"happiness_test\", split_ratio=0.8)\n",
        "split_folder(\"/content/combined_CK_data/sadness/\", \"sadness_train\", \"sadness_test\", split_ratio=0.8)\n",
        "split_folder(\"/content/combined_CK_data/surprise/\", \"surprise_train\", \"surprise_test\", split_ratio=0.8)"
      ],
      "metadata": {
        "id": "Brqc416_NOZu"
      },
      "execution_count": 20,
      "outputs": []
    },
    {
      "cell_type": "code",
      "source": [
        "def organize_folders(source_folder, text_identifier):\n",
        "\n",
        "    # Iterate through subfolders in the source folder\n",
        "    for folder_name in os.listdir(source_folder):\n",
        "        folder_path = os.path.join(source_folder, folder_name)\n",
        "\n",
        "        # Check if the subfolder name contains the text identifier\n",
        "        if text_identifier in folder_name and os.path.isdir(folder_path):\n",
        "            # Create a destination folder based on the text identifier\n",
        "            dest_folder = os.path.join(source_folder, text_identifier)\n",
        "            os.makedirs(dest_folder, exist_ok=True)\n",
        "\n",
        "            # Move the subfolder to the destination folder\n",
        "            shutil.move(folder_path, dest_folder)\n",
        "\n",
        "source_folder = \"/content/\"\n",
        "test_folder = \"test\"\n",
        "train_folder = \"train\"\n",
        "organize_folders(source_folder, test_folder)\n",
        "organize_folders(source_folder,train_folder)"
      ],
      "metadata": {
        "id": "DnzVeMc2NtwC"
      },
      "execution_count": 21,
      "outputs": []
    },
    {
      "cell_type": "code",
      "source": [
        "print(\"\\nTraining dataset\\n\")\n",
        "for expression in os.listdir(\"train/\"):\n",
        "    print(str(len(os.listdir(\"train/\" + expression))) + \" \" + expression + \" images\")\n",
        "print(\"\\nTest dataset\\n\")\n",
        "for expression in os.listdir(\"test/\"):\n",
        "    print(str(len(os.listdir(\"test/\" + expression))) + \" \" + expression + \" images\")"
      ],
      "metadata": {
        "colab": {
          "base_uri": "https://localhost:8080/"
        },
        "id": "iyzhxexjOBo3",
        "outputId": "ee7c2160-0ed1-4277-a16b-ec829bbe1bd9"
      },
      "execution_count": 22,
      "outputs": [
        {
          "output_type": "stream",
          "name": "stdout",
          "text": [
            "\n",
            "Training dataset\n",
            "\n",
            "100 contempt_train images\n",
            "386 happiness_train images\n",
            "330 disgust_train images\n",
            "140 fear_train images\n",
            "252 anger_train images\n",
            "156 sadness_train images\n",
            "464 surprise_train images\n",
            "\n",
            "Test dataset\n",
            "\n",
            "63 anger_test images\n",
            "83 disgust_test images\n",
            "97 happiness_test images\n",
            "117 surprise_test images\n",
            "26 contempt_test images\n",
            "40 sadness_test images\n",
            "35 fear_test images\n"
          ]
        }
      ]
    },
    {
      "cell_type": "code",
      "source": [
        "img_size = 48\n",
        "batch_size = 64\n",
        "\n",
        "datagen_train = ImageDataGenerator(horizontal_flip=True)\n",
        "\n",
        "train_generator = datagen_train.flow_from_directory(\"train/\",\n",
        "                                                    target_size=(img_size,img_size),\n",
        "                                                    color_mode=\"grayscale\",\n",
        "                                                    batch_size=batch_size,\n",
        "                                                    class_mode='categorical',\n",
        "                                                    shuffle=True)\n",
        "\n",
        "datagen_validation = ImageDataGenerator(horizontal_flip=True)\n",
        "\n",
        "validation_generator = datagen_validation.flow_from_directory(\"test/\",\n",
        "                                                    target_size=(img_size,img_size),\n",
        "                                                    color_mode=\"grayscale\",\n",
        "                                                    batch_size=batch_size,\n",
        "                                                    class_mode='categorical',\n",
        "                                                    shuffle=False)"
      ],
      "metadata": {
        "colab": {
          "base_uri": "https://localhost:8080/"
        },
        "id": "06XESgOROHV8",
        "outputId": "7d03f501-641e-4685-f367-d9eee0542d1d"
      },
      "execution_count": 23,
      "outputs": [
        {
          "output_type": "stream",
          "name": "stdout",
          "text": [
            "Found 1828 images belonging to 7 classes.\n",
            "Found 461 images belonging to 7 classes.\n"
          ]
        }
      ]
    },
    {
      "cell_type": "code",
      "source": [
        "from keras.models import Sequential\n",
        "from keras.layers import Dense, Conv2D, Flatten\n",
        "model = Sequential()\n",
        "#add model layers\n",
        "model.add(Conv2D(64, kernel_size=3, activation='relu', input_shape=(img_size,img_size,1)))\n",
        "model.add(Conv2D(32, kernel_size=3, activation='relu'))\n",
        "model.add(Flatten())\n",
        "#7 nodes in dense for 7 different emotions\n",
        "model.add(Dense(7, activation='softmax'))\n",
        "\n",
        "#compile model with accuracy\n",
        "opt = Adam(lr=0.0005)\n",
        "model.compile(optimizer=opt, loss='categorical_crossentropy', metrics=['accuracy'])\n",
        "model.summary()\n"
      ],
      "metadata": {
        "colab": {
          "base_uri": "https://localhost:8080/"
        },
        "id": "zN2BUDGgODfU",
        "outputId": "76c8cd42-86f5-4fc1-83d0-f680dbd25d63"
      },
      "execution_count": 24,
      "outputs": [
        {
          "output_type": "stream",
          "name": "stderr",
          "text": [
            "WARNING:absl:`lr` is deprecated in Keras optimizer, please use `learning_rate` or use the legacy optimizer, e.g.,tf.keras.optimizers.legacy.Adam.\n"
          ]
        },
        {
          "output_type": "stream",
          "name": "stdout",
          "text": [
            "Model: \"sequential\"\n",
            "_________________________________________________________________\n",
            " Layer (type)                Output Shape              Param #   \n",
            "=================================================================\n",
            " conv2d (Conv2D)             (None, 46, 46, 64)        640       \n",
            "                                                                 \n",
            " conv2d_1 (Conv2D)           (None, 44, 44, 32)        18464     \n",
            "                                                                 \n",
            " flatten (Flatten)           (None, 61952)             0         \n",
            "                                                                 \n",
            " dense (Dense)               (None, 7)                 433671    \n",
            "                                                                 \n",
            "=================================================================\n",
            "Total params: 452775 (1.73 MB)\n",
            "Trainable params: 452775 (1.73 MB)\n",
            "Non-trainable params: 0 (0.00 Byte)\n",
            "_________________________________________________________________\n"
          ]
        }
      ]
    },
    {
      "cell_type": "code",
      "source": [
        "#from https://github.com/katoch99/Emotion-Recognition\n",
        "\n",
        "%%time\n",
        "\n",
        "epochs = 15\n",
        "steps_per_epoch = train_generator.n//train_generator.batch_size\n",
        "validation_steps = validation_generator.n//validation_generator.batch_size\n",
        "\n",
        "reduce_lr = ReduceLROnPlateau(monitor='val_loss', factor=0.1,\n",
        "                              patience=2, min_lr=0.00001, mode='auto')\n",
        "checkpoint = ModelCheckpoint(\"model_weights.h5\", monitor='val_accuracy',\n",
        "                             save_weights_only=True, mode='max', verbose=1)\n",
        "callbacks = [PlotLossesKerasTF(), checkpoint, reduce_lr]\n",
        "\n",
        "history = model.fit(\n",
        "    x=train_generator,\n",
        "    steps_per_epoch=steps_per_epoch,\n",
        "    epochs=epochs,\n",
        "    validation_data = validation_generator,\n",
        "    validation_steps = validation_steps,\n",
        "    callbacks=callbacks\n",
        ")"
      ],
      "metadata": {
        "colab": {
          "base_uri": "https://localhost:8080/",
          "height": 998
        },
        "id": "y9e53SGqORT7",
        "outputId": "8bdebe15-5f4f-4ed4-8366-17eb9b6cfec3"
      },
      "execution_count": 25,
      "outputs": [
        {
          "output_type": "display_data",
          "data": {
            "text/plain": [
              "<Figure size 1200x800 with 2 Axes>"
            ],
            "image/png": "[encoded data removed]"
          },
          "metadata": {}
        },
        {
          "output_type": "stream",
          "name": "stdout",
          "text": [
            "accuracy\n",
            "\ttraining         \t (min:    0.185, max:    0.683, cur:    0.677)\n",
            "\tvalidation       \t (min:    0.192, max:    0.246, cur:    0.210)\n",
            "Loss\n",
            "\ttraining         \t (min:    0.963, max:   16.976, cur:    0.964)\n",
            "\tvalidation       \t (min:    1.833, max:    2.335, cur:    2.335)\n",
            "\n",
            "Epoch 15: saving model to model_weights.h5\n",
            "28/28 [==============================] - 23s 802ms/step - loss: 0.9644 - accuracy: 0.6769 - val_loss: 2.3348 - val_accuracy: 0.2098 - lr: 1.0000e-05\n",
            "CPU times: user 8min 39s, sys: 32.8 s, total: 9min 12s\n",
            "Wall time: 7min 52s\n"
          ]
        }
      ]
    }
  ],
  "metadata": {
    "colab": {
      "provenance": [],
      "include_colab_link": true
    },
    "kernelspec": {
      "display_name": "Python 3",
      "name": "python3"
    },
    "language_info": {
      "name": "python"
    }
  },
  "nbformat": 4,
  "nbformat_minor": 0
}